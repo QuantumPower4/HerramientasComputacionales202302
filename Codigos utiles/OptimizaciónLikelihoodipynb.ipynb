{
  "nbformat": 4,
  "nbformat_minor": 0,
  "metadata": {
    "colab": {
      "provenance": []
    },
    "kernelspec": {
      "name": "python3",
      "display_name": "Python 3"
    },
    "language_info": {
      "name": "python"
    }
  },
  "cells": [
    {
      "cell_type": "code",
      "execution_count": null,
      "metadata": {
        "id": "l57ar6eSh72I"
      },
      "outputs": [],
      "source": [
        "import numpy as np\n",
        "import matplotlib.pyplot as plt\n",
        "\n",
        "import sympy as sym\n",
        "from scipy.stats import chi2\n",
        "import scipy.optimize as spo\n",
        "\n",
        "import os\n",
        "import os.path as path\n",
        "import wget"
      ]
    },
    {
      "cell_type": "code",
      "source": [
        "pip install wget"
      ],
      "metadata": {
        "colab": {
          "base_uri": "https://localhost:8080/"
        },
        "id": "-hM71xWtjAP9",
        "outputId": "e618e271-2e05-4426-e7ae-9f75ba2bf217"
      },
      "execution_count": null,
      "outputs": [
        {
          "output_type": "stream",
          "name": "stdout",
          "text": [
            "Collecting wget\n",
            "  Downloading wget-3.2.zip (10 kB)\n",
            "  Preparing metadata (setup.py) ... \u001b[?25l\u001b[?25hdone\n",
            "Building wheels for collected packages: wget\n",
            "  Building wheel for wget (setup.py) ... \u001b[?25l\u001b[?25hdone\n",
            "  Created wheel for wget: filename=wget-3.2-py3-none-any.whl size=9656 sha256=853f8476ef4c7c00c32d854649d13fcf57f6a234277f5ca821c1103e36433f6e\n",
            "  Stored in directory: /root/.cache/pip/wheels/8b/f1/7f/5c94f0a7a505ca1c81cd1d9208ae2064675d97582078e6c769\n",
            "Successfully built wget\n",
            "Installing collected packages: wget\n",
            "Successfully installed wget-3.2\n"
          ]
        }
      ]
    },
    {
      "cell_type": "code",
      "source": [
        "if not path.exists('Data'):\n",
        "    os.mkdir('Data')\n",
        "\n",
        "!rm Data/Minimos.dat\n",
        "\n",
        "file = 'Data/Minimos.dat'\n",
        "\n",
        "\n",
        "url = 'https://raw.githubusercontent.com/asegura4488/Database/main/MetodosComputacionalesReforma/MinimosCuadratico.txt'\n",
        "\n",
        "if not path.exists(file):\n",
        "    Path_ = wget.download(url,file)\n",
        "    print('File loaded')\n",
        "else:\n",
        "    Path_ = file"
      ],
      "metadata": {
        "colab": {
          "base_uri": "https://localhost:8080/"
        },
        "id": "K1W3sQ5vi8vl",
        "outputId": "6b1a7ced-5fe8-4daf-a33f-5f7a214bd309"
      },
      "execution_count": null,
      "outputs": [
        {
          "output_type": "stream",
          "name": "stdout",
          "text": [
            "rm: cannot remove 'Data/Minimos.dat': No such file or directory\n",
            "File loaded\n"
          ]
        }
      ]
    },
    {
      "cell_type": "markdown",
      "source": [
        "Lo que se hará es una regresión para datos con incertidumbre"
      ],
      "metadata": {
        "id": "D6gfDOSBSDJA"
      }
    },
    {
      "cell_type": "code",
      "source": [
        "data = np.loadtxt(Path_)\n",
        "x = data[:,0]\n",
        "y = data[:,1]\n",
        "N = len(x)\n",
        "\n",
        "sigma = np.random.normal(loc=0,scale=20,size=N)\n",
        "sigma = np.abs(sigma)\n",
        "plt.errorbar(x,y,yerr=sigma,fmt='.')"
      ],
      "metadata": {
        "colab": {
          "base_uri": "https://localhost:8080/",
          "height": 447
        },
        "id": "NowM5WEUjQ3L",
        "outputId": "61479ee5-e8a2-40e8-e411-ff6ffcb38833"
      },
      "execution_count": null,
      "outputs": [
        {
          "output_type": "execute_result",
          "data": {
            "text/plain": [
              "<ErrorbarContainer object of 3 artists>"
            ]
          },
          "metadata": {},
          "execution_count": 72
        },
        {
          "output_type": "display_data",
          "data": {
            "text/plain": [
              "<Figure size 640x480 with 1 Axes>"
            ],
            "image/png": "[encoded data removed]"
          },
          "metadata": {}
        }
      ]
    },
    {
      "cell_type": "code",
      "source": [
        "def GetModel(x,p):\n",
        "\n",
        "  y = 0\n",
        "  for n in range(len(p)):\n",
        "    y += p[n]*x**n\n",
        "\n",
        "  return y"
      ],
      "metadata": {
        "id": "nnaDqarVjWR6"
      },
      "execution_count": null,
      "outputs": []
    },
    {
      "cell_type": "code",
      "source": [
        "def Chi2(p,x,y,sigma):\n",
        "  return np.sum((y-GetModel(x,p))**2 / (2*sigma**2))"
      ],
      "metadata": {
        "id": "VBWo6ZExmPEo"
      },
      "execution_count": null,
      "outputs": []
    },
    {
      "cell_type": "code",
      "source": [
        "p0 = np.ones(2)\n",
        "nll = lambda *p: Chi2(*p)"
      ],
      "metadata": {
        "id": "ewGE8wlhlWlS"
      },
      "execution_count": null,
      "outputs": []
    },
    {
      "cell_type": "code",
      "source": [
        "result = spo.minimize(nll,p0,args =(x,y,sigma),options={\"disp\":True})\n",
        "result"
      ],
      "metadata": {
        "colab": {
          "base_uri": "https://localhost:8080/"
        },
        "id": "D1a1mM9jmrJS",
        "outputId": "bb80c076-6c5c-467b-eeae-b998dcd354f6"
      },
      "execution_count": null,
      "outputs": [
        {
          "output_type": "stream",
          "name": "stdout",
          "text": [
            "Optimization terminated successfully.\n",
            "         Current function value: 78.069613\n",
            "         Iterations: 8\n",
            "         Function evaluations: 30\n",
            "         Gradient evaluations: 10\n"
          ]
        },
        {
          "output_type": "execute_result",
          "data": {
            "text/plain": [
              "  message: Optimization terminated successfully.\n",
              "  success: True\n",
              "   status: 0\n",
              "      fun: 78.06961340654448\n",
              "        x: [-2.203e+01  3.238e+01]\n",
              "      nit: 8\n",
              "      jac: [-9.537e-07  2.861e-06]\n",
              " hess_inv: [[ 3.625e+00 -6.762e-01]\n",
              "            [-6.762e-01  2.859e-01]]\n",
              "     nfev: 30\n",
              "     njev: 10"
            ]
          },
          "metadata": {},
          "execution_count": 98
        }
      ]
    },
    {
      "cell_type": "code",
      "source": [
        "param = result.x\n",
        "param"
      ],
      "metadata": {
        "colab": {
          "base_uri": "https://localhost:8080/"
        },
        "id": "-VsBpSvTm7wI",
        "outputId": "deb6e998-61e8-47b8-d1fd-6a65111987b8"
      },
      "execution_count": null,
      "outputs": [
        {
          "output_type": "execute_result",
          "data": {
            "text/plain": [
              "array([-22.02557198,  32.37595346])"
            ]
          },
          "metadata": {},
          "execution_count": 89
        }
      ]
    },
    {
      "cell_type": "code",
      "source": [
        "_x = np.linspace(np.min(x), np.max(x), 100)\n",
        "_y = GetModel(_x,param)"
      ],
      "metadata": {
        "id": "oZ1C7YmJnJln"
      },
      "execution_count": null,
      "outputs": []
    },
    {
      "cell_type": "code",
      "source": [
        "_y"
      ],
      "metadata": {
        "colab": {
          "base_uri": "https://localhost:8080/"
        },
        "id": "6VWPQ2qCoQ4v",
        "outputId": "bc947034-2114-4d1b-c556-d5718879175f"
      },
      "execution_count": null,
      "outputs": [
        {
          "output_type": "execute_result",
          "data": {
            "text/plain": [
              "array([-22.02557198, -18.75527365, -15.48497532, -12.21467699,\n",
              "        -8.94437866,  -5.67408033,  -2.403782  ,   0.86651633,\n",
              "         4.13681466,   7.40711299,  10.67741132,  13.94770965,\n",
              "        17.21800798,  20.48830631,  23.75860464,  27.02890297,\n",
              "        30.2992013 ,  33.56949963,  36.83979796,  40.11009629,\n",
              "        43.38039462,  46.65069295,  49.92099128,  53.19128961,\n",
              "        56.46158794,  59.73188626,  63.00218459,  66.27248292,\n",
              "        69.54278125,  72.81307958,  76.08337791,  79.35367624,\n",
              "        82.62397457,  85.8942729 ,  89.16457123,  92.43486956,\n",
              "        95.70516789,  98.97546622, 102.24576455, 105.51606288,\n",
              "       108.78636121, 112.05665954, 115.32695787, 118.5972562 ,\n",
              "       121.86755453, 125.13785286, 128.40815119, 131.67844952,\n",
              "       134.94874785, 138.21904618, 141.48934451, 144.75964284,\n",
              "       148.02994117, 151.3002395 , 154.57053783, 157.84083616,\n",
              "       161.11113449, 164.38143281, 167.65173114, 170.92202947,\n",
              "       174.1923278 , 177.46262613, 180.73292446, 184.00322279,\n",
              "       187.27352112, 190.54381945, 193.81411778, 197.08441611,\n",
              "       200.35471444, 203.62501277, 206.8953111 , 210.16560943,\n",
              "       213.43590776, 216.70620609, 219.97650442, 223.24680275,\n",
              "       226.51710108, 229.78739941, 233.05769774, 236.32799607,\n",
              "       239.5982944 , 242.86859273, 246.13889106, 249.40918939,\n",
              "       252.67948772, 255.94978605, 259.22008438, 262.49038271,\n",
              "       265.76068104, 269.03097936, 272.30127769, 275.57157602,\n",
              "       278.84187435, 282.11217268, 285.38247101, 288.65276934,\n",
              "       291.92306767, 295.193366  , 298.46366433, 301.73396266])"
            ]
          },
          "metadata": {},
          "execution_count": 91
        }
      ]
    },
    {
      "cell_type": "code",
      "source": [
        "plt.errorbar(x,y,yerr=sigma,fmt='.')\n",
        "plt.plot(_x,_y)"
      ],
      "metadata": {
        "colab": {
          "base_uri": "https://localhost:8080/",
          "height": 447
        },
        "id": "GxNDd3NonqVx",
        "outputId": "2bedaf33-4cd7-4217-a026-13681262a476"
      },
      "execution_count": null,
      "outputs": [
        {
          "output_type": "execute_result",
          "data": {
            "text/plain": [
              "[<matplotlib.lines.Line2D at 0x7fd5082893f0>]"
            ]
          },
          "metadata": {},
          "execution_count": 92
        },
        {
          "output_type": "display_data",
          "data": {
            "text/plain": [
              "<Figure size 640x480 with 1 Axes>"
            ],
            "image/png": "[encoded data removed]"
          },
          "metadata": {}
        }
      ]
    },
    {
      "cell_type": "code",
      "source": [
        "result.fun/(N-len(p0))"
      ],
      "metadata": {
        "id": "xgf0vWXZq4oo",
        "outputId": "4b560b93-87ed-4ad8-c7c0-40b2ded7dffa",
        "colab": {
          "base_uri": "https://localhost:8080/"
        }
      },
      "execution_count": null,
      "outputs": [
        {
          "output_type": "execute_result",
          "data": {
            "text/plain": [
              "0.13785335907870913"
            ]
          },
          "metadata": {},
          "execution_count": 27
        }
      ]
    },
    {
      "cell_type": "code",
      "source": [
        "def GetModel(x,p):\n",
        "\n",
        "  y = p[0]*np.exp(p[1]*x)\n",
        "\n",
        "  return y"
      ],
      "metadata": {
        "id": "HqDbAXmEnzWX"
      },
      "execution_count": null,
      "outputs": []
    },
    {
      "cell_type": "code",
      "source": [
        "def Chi2(p,x,y,sigma):\n",
        "  return np.sum((y-GetModel(x,p))**2 / (2*sigma**2))"
      ],
      "metadata": {
        "id": "aQ-owg60pWt8"
      },
      "execution_count": null,
      "outputs": []
    },
    {
      "cell_type": "code",
      "source": [
        "p0 = np.ones(2)\n",
        "nll = lambda *p: Chi2(*p)"
      ],
      "metadata": {
        "id": "VXYv8RG6pZYs"
      },
      "execution_count": null,
      "outputs": []
    },
    {
      "cell_type": "code",
      "source": [
        "result = spo.minimize(nll,p0,args =(x,y,sigma),options={\"disp\":True})\n",
        "result"
      ],
      "metadata": {
        "colab": {
          "base_uri": "https://localhost:8080/"
        },
        "id": "H4Wyre72pc7s",
        "outputId": "aceb2a1a-1731-411d-9aec-c0caae6454a7"
      },
      "execution_count": null,
      "outputs": [
        {
          "output_type": "stream",
          "name": "stdout",
          "text": [
            "Warning: Desired error not necessarily achieved due to precision loss.\n",
            "         Current function value: 13.537048\n",
            "         Iterations: 68\n",
            "         Function evaluations: 344\n",
            "         Gradient evaluations: 111\n"
          ]
        },
        {
          "output_type": "execute_result",
          "data": {
            "text/plain": [
              "  message: Desired error not necessarily achieved due to precision loss.\n",
              "  success: False\n",
              "   status: 2\n",
              "      fun: 13.537048389040525\n",
              "        x: [ 2.612e+01  2.681e-01]\n",
              "      nit: 68\n",
              "      jac: [-1.800e-05 -2.848e-03]\n",
              " hess_inv: [[ 4.970e+00 -2.120e-02]\n",
              "            [-2.120e-02  9.366e-05]]\n",
              "     nfev: 344\n",
              "     njev: 111"
            ]
          },
          "metadata": {},
          "execution_count": 84
        }
      ]
    },
    {
      "cell_type": "code",
      "source": [
        "param = result.x"
      ],
      "metadata": {
        "id": "K0SytgmUphOM"
      },
      "execution_count": null,
      "outputs": []
    },
    {
      "cell_type": "code",
      "source": [
        "_x = np.linspace(np.min(x), np.max(x), 100)\n",
        "_y = GetModel(_x,param)\n",
        "plt.errorbar(x,y,yerr=sigma,fmt='.')\n",
        "plt.plot(_x,_y)"
      ],
      "metadata": {
        "colab": {
          "base_uri": "https://localhost:8080/",
          "height": 451
        },
        "id": "z-K8V6cSpi6r",
        "outputId": "a4141538-cf22-49f3-dde4-e49edf8d01a5"
      },
      "execution_count": null,
      "outputs": [
        {
          "output_type": "execute_result",
          "data": {
            "text/plain": [
              "[<matplotlib.lines.Line2D at 0x7f9fd2d6a740>]"
            ]
          },
          "metadata": {},
          "execution_count": 87
        },
        {
          "output_type": "display_data",
          "data": {
            "text/plain": [
              "<Figure size 640x480 with 1 Axes>"
            ],
            "image/png": "[encoded data removed]"
          },
          "metadata": {}
        }
      ]
    }
  ]
}