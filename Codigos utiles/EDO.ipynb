{
  "nbformat": 4,
  "nbformat_minor": 0,
  "metadata": {
    "colab": {
      "provenance": []
    },
    "kernelspec": {
      "name": "python3",
      "display_name": "Python 3"
    },
    "language_info": {
      "name": "python"
    }
  },
  "cells": [
    {
      "cell_type": "code",
      "execution_count": null,
      "metadata": {
        "id": "KeBCTCyJ_zi-"
      },
      "outputs": [],
      "source": [
        "import sympy as sym"
      ]
    },
    {
      "cell_type": "code",
      "source": [
        "t = sym.Symbol(\"t\")\n",
        "x = sym.Function(\"x\")\n",
        "sistema = sym.diff(x(t),t,2) + 2*sym.diff(x(t)) + (33/5)*x(t) - 18"
      ],
      "metadata": {
        "id": "fM0dGI-s_9We"
      },
      "execution_count": null,
      "outputs": []
    },
    {
      "cell_type": "code",
      "source": [
        "sol = sym.dsolve(sistema)\n",
        "sol = sol.rhs\n",
        "sol"
      ],
      "metadata": {
        "colab": {
          "base_uri": "https://localhost:8080/",
          "height": 38
        },
        "id": "q4A8mfQcBVcc",
        "outputId": "be36e90f-8698-457e-deff-51cb3146b56b"
      },
      "execution_count": null,
      "outputs": [
        {
          "output_type": "execute_result",
          "data": {
            "text/plain": [
              "(C1*sin(2.36643191323985*t) + C2*cos(2.36643191323985*t))*exp(-1.0*t) + 2.72727272727273"
            ],
            "text/latex": "$\\displaystyle \\left(C_{1} \\sin{\\left(2.36643191323985 t \\right)} + C_{2} \\cos{\\left(2.36643191323985 t \\right)}\\right) e^{- 1.0 t} + 2.72727272727273$"
          },
          "metadata": {},
          "execution_count": 57
        }
      ]
    },
    {
      "cell_type": "code",
      "source": [
        "diff1 = sym.diff(sol,t,1)\n",
        "diff1_ = sym.Eq(diff1.subs(t,0),10)\n",
        "diff1_"
      ],
      "metadata": {
        "colab": {
          "base_uri": "https://localhost:8080/",
          "height": 38
        },
        "id": "_SpJ-3yuBjH0",
        "outputId": "c00359ef-c17d-4667-b4e2-e33c7117a405"
      },
      "execution_count": null,
      "outputs": [
        {
          "output_type": "execute_result",
          "data": {
            "text/plain": [
              "Eq(2.36643191323985*C1 - 1.0*C2, 10)"
            ],
            "text/latex": "$\\displaystyle 2.36643191323985 C_{1} - 1.0 C_{2} = 10$"
          },
          "metadata": {},
          "execution_count": 77
        }
      ]
    },
    {
      "cell_type": "code",
      "source": [
        "sym.Eq(sol.lhs.subs(sym.diff(x(t)),0), sol.rhs.subs(t, 0))"
      ],
      "metadata": {
        "id": "7HUobTiHGuq6"
      },
      "execution_count": null,
      "outputs": []
    },
    {
      "cell_type": "code",
      "source": [
        "diff2 = sym.diff(sol,t,2)\n",
        "diff2_ = sym.Eq(diff2.subs(t,0),0)\n",
        "diff2_"
      ],
      "metadata": {
        "colab": {
          "base_uri": "https://localhost:8080/",
          "height": 38
        },
        "id": "MCbztiBFCR8F",
        "outputId": "bca160c1-88a7-4dc6-e7a7-b3a8779b40e2"
      },
      "execution_count": null,
      "outputs": [
        {
          "output_type": "execute_result",
          "data": {
            "text/plain": [
              "Eq(-4.73286382647969*C1 - 4.6*C2, 0)"
            ],
            "text/latex": "$\\displaystyle - 4.73286382647969 C_{1} - 4.6 C_{2} = 0$"
          },
          "metadata": {},
          "execution_count": 78
        }
      ]
    },
    {
      "cell_type": "code",
      "source": [
        "arb = sym.solve([diff1_,diff2_])"
      ],
      "metadata": {
        "colab": {
          "base_uri": "https://localhost:8080/"
        },
        "id": "LTN0XNc5DFC6",
        "outputId": "0b689948-22e2-4705-a641-b0dba7e66cb6"
      },
      "execution_count": null,
      "outputs": [
        {
          "output_type": "execute_result",
          "data": {
            "text/plain": [
              "[2.94523452405392, -3.03030303030303]"
            ]
          },
          "metadata": {},
          "execution_count": 98
        }
      ]
    },
    {
      "cell_type": "code",
      "source": [
        "fin = sol.subs(arb)\n",
        "fin"
      ],
      "metadata": {
        "colab": {
          "base_uri": "https://localhost:8080/",
          "height": 38
        },
        "id": "X8LM9HZHLT3u",
        "outputId": "c2c68a6b-0d47-4b38-a103-be6f258dd4ce"
      },
      "execution_count": null,
      "outputs": [
        {
          "output_type": "execute_result",
          "data": {
            "text/plain": [
              "(2.94523452405392*sin(2.36643191323985*t) - 3.03030303030303*cos(2.36643191323985*t))*exp(-1.0*t) + 2.72727272727273"
            ],
            "text/latex": "$\\displaystyle \\left(2.94523452405392 \\sin{\\left(2.36643191323985 t \\right)} - 3.03030303030303 \\cos{\\left(2.36643191323985 t \\right)}\\right) e^{- 1.0 t} + 2.72727272727273$"
          },
          "metadata": {},
          "execution_count": 103
        }
      ]
    },
    {
      "cell_type": "code",
      "source": [],
      "metadata": {
        "id": "KaQ35aCZLxvV"
      },
      "execution_count": null,
      "outputs": []
    }
  ]
}