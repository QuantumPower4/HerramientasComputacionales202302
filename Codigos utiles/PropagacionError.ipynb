{
  "nbformat": 4,
  "nbformat_minor": 0,
  "metadata": {
    "colab": {
      "provenance": []
    },
    "kernelspec": {
      "name": "python3",
      "display_name": "Python 3"
    },
    "language_info": {
      "name": "python"
    }
  },
  "cells": [
    {
      "cell_type": "markdown",
      "source": [
        "# Propagación del error\n",
        "\n",
        "Siga los pasos establecidos y todo saldrá perfecto 😎💪"
      ],
      "metadata": {
        "id": "yXl8V2gOHPWy"
      }
    },
    {
      "cell_type": "code",
      "source": [
        "import sympy as sym\n",
        "import numpy as np"
      ],
      "metadata": {
        "id": "-LUGdrG4HN-B"
      },
      "execution_count": null,
      "outputs": []
    },
    {
      "cell_type": "code",
      "execution_count": null,
      "metadata": {
        "id": "ed-mc1KLHA1U"
      },
      "outputs": [],
      "source": [
        "# Primero definir las magnitudes a trabajar\n",
        "x,y = sym.symbols(\"x,y\", real=True)\n",
        "var = [x,y]\n",
        "\n",
        "# Ahora definir las inceridumbres a trabajar\n",
        "sigma_x,sigma_y = sym.symbols(\"sigma_x, sigma_y\", real=True)\n",
        "inc = [sigma_x,sigma_y]"
      ]
    },
    {
      "cell_type": "code",
      "source": [
        "# Ingresar la función a operar\n",
        "func = x*y"
      ],
      "metadata": {
        "id": "_JOqJpU5MLhL"
      },
      "execution_count": null,
      "outputs": []
    },
    {
      "cell_type": "code",
      "source": [
        "def propagacion_error(func,var,inc)->float:\n",
        "  delta_funcion_cuadrado = 0\n",
        "  num = len(var)\n",
        "\n",
        "  for i in range(num):\n",
        "    delta_funcion_cuadrado += (func.diff(var[i])*inc[i])**2\n",
        "\n",
        "  delta_funcion=sym.sqrt(delta_funcion_cuadrado)\n",
        "\n",
        "  return delta_funcion.simplify()"
      ],
      "metadata": {
        "id": "ueb_CotVI1cC"
      },
      "execution_count": null,
      "outputs": []
    },
    {
      "cell_type": "code",
      "source": [
        "# Correr la celda\n",
        "inc_prop = propagacion_error(func,var,inc)\n",
        "inc_prop"
      ],
      "metadata": {
        "colab": {
          "base_uri": "https://localhost:8080/",
          "height": 48
        },
        "id": "KN_mjSD6NCNl",
        "outputId": "515b560c-ad84-4c98-af91-7eac38e8c034"
      },
      "execution_count": null,
      "outputs": [
        {
          "output_type": "execute_result",
          "data": {
            "text/plain": [
              "sqrt(sigma_x**2*y**2 + sigma_y**2*x**2)"
            ],
            "text/latex": "$\\displaystyle \\sqrt{\\sigma_{x}^{2} y^{2} + \\sigma_{y}^{2} x^{2}}$"
          },
          "metadata": {},
          "execution_count": 87
        }
      ]
    },
    {
      "cell_type": "markdown",
      "source": [
        "Si necesita evaluar las variables, entonces es lo siguiente:"
      ],
      "metadata": {
        "id": "wVPUPWsPSXB2"
      }
    },
    {
      "cell_type": "code",
      "source": [
        "inc_new = sym.lambdify(var+inc,inc_prop)\n",
        "\n",
        "# Primero poner el valor de cada magnitud y luego el valor de\n",
        "# cada incertidumbre (TIENEN QUE ESTAR EN ORDEN)\n",
        "\n",
        "inc_new(1,1,4,3)"
      ],
      "metadata": {
        "colab": {
          "base_uri": "https://localhost:8080/"
        },
        "id": "CQpLeD6xPYc8",
        "outputId": "8aa83697-b5de-4c94-c347-4ad443e20b69"
      },
      "execution_count": null,
      "outputs": [
        {
          "output_type": "execute_result",
          "data": {
            "text/plain": [
              "5.0"
            ]
          },
          "metadata": {},
          "execution_count": 84
        }
      ]
    }
  ]
}