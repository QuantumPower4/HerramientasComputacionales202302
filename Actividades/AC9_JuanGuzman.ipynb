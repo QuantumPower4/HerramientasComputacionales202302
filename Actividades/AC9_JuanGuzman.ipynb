{
  "cells": [
    {
      "cell_type": "markdown",
      "metadata": {
        "id": "eUrnkzVeOYpX"
      },
      "source": [
        "# IMEC2001 Herramientas Computacionales\n",
        "## Actividad Clase 9: Sistemas de Ecuaciones\n",
        "### Fecha Límite Entrega (Bloque Neón): <font color=\"#FF5733\">23.59h de Septiembre 6, 2023</font>\n",
        "\n",
        "Universidad de los Andes — Septiembre 4, 2023.\n",
        "\n",
        "___\n",
        "### Tener en Cuenta\n",
        "La entrega de la **Actividad Clase 9** se puede realizar de dos maneras:\n",
        "1. Enviar vía Bloque Neón el archivo en Jupyter Notebook (extensión '.ipynb').\n",
        "2. Enviar vía Bloque Neón el archivo PDF del Jupyter Notebook.\n",
        "\n",
        "**Nota:** <font color=\"#FF5733\">El nombre del archivo debe ser: `AC9_NombreApellido.ipynb`.</font>\n",
        "\n",
        "---\n",
        "\n",
        "## TABLA DE CONTENIDO\n",
        "\n",
        "### Sección 1: Ejercicios [→](#section1)\n",
        "1. Ejercicio 1: Ecuaciones Lineales [→](#exercise1)\n",
        "2. Ejercicio 2: Ecuaciones No Lineales [→](#exercise2)\n",
        "___"
      ]
    },
    {
      "cell_type": "code",
      "source": [
        "import numpy as np\n",
        "import sympy as sym\n",
        "import scipy"
      ],
      "metadata": {
        "id": "Nah3SK3aOvnR"
      },
      "execution_count": 17,
      "outputs": []
    },
    {
      "cell_type": "markdown",
      "metadata": {
        "id": "3_qDHwXZOYpb"
      },
      "source": [
        "<a id=\"section1\"></a>\n",
        "# Sección 1: Ejercicios"
      ]
    },
    {
      "cell_type": "markdown",
      "metadata": {
        "id": "jdD9g6BDOYpb"
      },
      "source": [
        "<a id=\"exercise1\"></a>\n",
        "## Ejercicio 1: Ecuaciones Lineales\n",
        "\n",
        "Se tiene el siguiente sistema de ecuaciones lineales:\n",
        "\n",
        "$$\n",
        "\\begin{cases}\n",
        "  3x_1 + 2x_2 + x_3 = 1 \\\\\n",
        "  \\\\\n",
        "  2x_1 + 2x_2 + 4x_3 = -2 \\\\\n",
        "  \\\\\n",
        "  -x_1 + \\frac{1}{2}x_2 - x_3 = 0\n",
        "\\end{cases}\n",
        "$$\n",
        "\n",
        "<div class=\"alert alert-block alert-warning\">\n",
        "\n",
        "1. Utilizando la librería `numpy.linalg.inv` y `numpy.dots`, resuelva el sistema de ecuaciones.\n",
        "2. Utilizando la librería `numpy.linalg.solve`, resuelva el sistema de ecuaciones.\n",
        "3. Utilizando la librería `sympy.rref()`, resuelva el sistema de ecuaciones.\n",
        "4. Utilizando la librería `scipy.optimize.fsolve`, resuelva el sistema de ecuaciones.\n",
        "5. Utilizando la librería `sympy.solve`, resuelva el sistema de ecuaciones.\n",
        "    \n",
        "</div>"
      ]
    },
    {
      "cell_type": "code",
      "source": [
        "A_np = np.array([[3,2,1],\n",
        "              [2,2,4],\n",
        "              [-1,1/2,-1]])\n",
        "b_np = np.array([1,-2,0])"
      ],
      "metadata": {
        "id": "_xKS3dnJO4Ue"
      },
      "execution_count": 9,
      "outputs": []
    },
    {
      "cell_type": "code",
      "execution_count": 10,
      "metadata": {
        "colab": {
          "base_uri": "https://localhost:8080/"
        },
        "id": "HrIHEg1VOYpc",
        "outputId": "21bd955b-b53b-46c0-e048-d983b27d761d"
      },
      "outputs": [
        {
          "output_type": "execute_result",
          "data": {
            "text/plain": [
              "array([ 0.69230769, -0.15384615, -0.76923077])"
            ]
          },
          "metadata": {},
          "execution_count": 10
        }
      ],
      "source": [
        "# Ítem 1\n",
        "np.dot(np.linalg.inv(A_np),b_np)"
      ]
    },
    {
      "cell_type": "code",
      "execution_count": 11,
      "metadata": {
        "colab": {
          "base_uri": "https://localhost:8080/"
        },
        "id": "T4gV4te_OYpd",
        "outputId": "7c1a676c-4dd3-4518-fa32-242d615f2cc4"
      },
      "outputs": [
        {
          "output_type": "execute_result",
          "data": {
            "text/plain": [
              "array([ 0.69230769, -0.15384615, -0.76923077])"
            ]
          },
          "metadata": {},
          "execution_count": 11
        }
      ],
      "source": [
        "# Ítem 2\n",
        "np.linalg.solve(A_np,b_np)"
      ]
    },
    {
      "cell_type": "code",
      "execution_count": 15,
      "metadata": {
        "colab": {
          "base_uri": "https://localhost:8080/",
          "height": 78
        },
        "id": "jXxlcylcOYpe",
        "outputId": "c1ee2d11-cd9d-498a-fcb4-efd186cdfb8c"
      },
      "outputs": [
        {
          "output_type": "execute_result",
          "data": {
            "text/plain": [
              "Matrix([\n",
              "[1, 0, 0,  0.692307692307692],\n",
              "[0, 1, 0, -0.153846153846154],\n",
              "[0, 0, 1, -0.769230769230769]])"
            ],
            "text/latex": "$\\displaystyle \\left[\\begin{matrix}1 & 0 & 0 & 0.692307692307692\\\\0 & 1 & 0 & -0.153846153846154\\\\0 & 0 & 1 & -0.769230769230769\\end{matrix}\\right]$"
          },
          "metadata": {},
          "execution_count": 15
        }
      ],
      "source": [
        "# Ítem 3\n",
        "A_sym = sym.Matrix([[3,2,1,1],\n",
        "              [2,2,4,-2],\n",
        "              [-1,1/2,-1,0]])\n",
        "\n",
        "A_sym.rref()[0]"
      ]
    },
    {
      "cell_type": "code",
      "execution_count": 28,
      "metadata": {
        "colab": {
          "base_uri": "https://localhost:8080/"
        },
        "id": "3XM42Q6SOYpe",
        "outputId": "63d84c31-0d10-494b-8381-12da6e318880"
      },
      "outputs": [
        {
          "output_type": "execute_result",
          "data": {
            "text/plain": [
              "array([ 0.69230769, -0.15384615, -0.76923077])"
            ]
          },
          "metadata": {},
          "execution_count": 28
        }
      ],
      "source": [
        "# Ítem 4\n",
        "def f2(z):\n",
        "    ## Definimos las incógnitas\n",
        "    x1 = z[0]\n",
        "    x2 = z[1]\n",
        "    x3 = z[2]\n",
        "\n",
        "    ## Creamos una lista vacía para alojar las funciones\n",
        "    F = np.zeros(3)\n",
        "\n",
        "    ## Alojamos las funciones en F (noten la parte derecha igual a cero)\n",
        "    F[0] = 3*x1 + 2*x2 + x3 - 1\n",
        "    F[1] = 2*x1 + 2*x2 + 4*x3 + 2\n",
        "    F[2] = -x1 + 0.5*x2 -x3\n",
        "\n",
        "    return F\n",
        "\n",
        "estimacion = [1,0,-1]\n",
        "\n",
        "scipy.optimize.fsolve(func=f2,x0=estimacion)"
      ]
    },
    {
      "cell_type": "code",
      "execution_count": 24,
      "metadata": {
        "colab": {
          "base_uri": "https://localhost:8080/"
        },
        "id": "KRUYXMWWOYpe",
        "outputId": "c583dec0-293d-4ab1-bcb7-2f1997362399"
      },
      "outputs": [
        {
          "output_type": "execute_result",
          "data": {
            "text/plain": [
              "{x1: 0.692307692307692, x2: -0.153846153846154, x3: -0.769230769230769}"
            ]
          },
          "metadata": {},
          "execution_count": 24
        }
      ],
      "source": [
        "# Ítem 5\n",
        "x1,x2,x3 = sym.symbols(\"x1,x2,x3\",real=True)\n",
        "sym.solve([3*x1 + 2*x2 + x3 - 1, 2*x1 + 2*x2 + 4*x3 + 2, -x1 + 0.5*x2 -x3],[x1,x2,x3])\n"
      ]
    },
    {
      "cell_type": "markdown",
      "metadata": {
        "id": "XN16X0dVOYpf"
      },
      "source": [
        "<a id='exercise2'></a>\n",
        "## Ejercicio 2: Ecuaciones No Lineales\n",
        "\n",
        "Se tiene el siguiente sistema de ecuaciones no lineales:\n",
        "\n",
        "$$\n",
        "\\begin{cases}\n",
        "  x^2 + y^2 = 1 \\\\\n",
        "  \\\\\n",
        "  xy + yz = -1.1 \\\\\n",
        "  \\\\\n",
        "  y^2 + z^2 = 2\n",
        "\\end{cases}\n",
        "$$\n",
        "\n",
        "<div class=\"alert alert-block alert-warning\">\n",
        "\n",
        "1. Utilizando la librería `scipy.optimize.fsolve`, resuelva el sistema de ecuaciones.\n",
        "1. Utilizando la librería `scipy.optimize.roots`, resuelva el sistema de ecuaciones.\n",
        "3. Utilizando la librería `sympy.solve`, resuelva el sistema de ecuaciones.\n",
        "    \n",
        "</div>"
      ]
    },
    {
      "cell_type": "code",
      "execution_count": 35,
      "metadata": {
        "colab": {
          "base_uri": "https://localhost:8080/"
        },
        "id": "wIK1WuZjOYpf",
        "outputId": "c1dbfb85-a88b-4ea3-eced-89dea67d1f0a"
      },
      "outputs": [
        {
          "output_type": "execute_result",
          "data": {
            "text/plain": [
              "array([ 0.10056089, -0.99493091,  1.00504353])"
            ]
          },
          "metadata": {},
          "execution_count": 35
        }
      ],
      "source": [
        "# Ítem 1\n",
        "def f2(z):\n",
        "    ## Definimos las incógnitas\n",
        "    x1 = z[0]\n",
        "    x2 = z[1]\n",
        "    x3 = z[2]\n",
        "\n",
        "    ## Creamos una lista vacía para alojar las funciones\n",
        "    F = np.zeros(3)\n",
        "\n",
        "    ## Alojamos las funciones en F (noten la parte derecha igual a cero)\n",
        "    F[0] = x1**2 + x2**2 -1\n",
        "    F[1] = x1*x2 + x2*x3 +1.1\n",
        "    F[2] = x2**2 + x3**2 -2\n",
        "\n",
        "    return F\n",
        "\n",
        "estimacion2 = [1,1,1]\n",
        "\n",
        "scipy.optimize.fsolve(func=f2,x0=estimacion2)"
      ]
    },
    {
      "cell_type": "code",
      "execution_count": 37,
      "metadata": {
        "colab": {
          "base_uri": "https://localhost:8080/"
        },
        "id": "fwboWGuIOYpf",
        "outputId": "038b1d7d-ed7e-447a-c8ac-def4ba16e093"
      },
      "outputs": [
        {
          "output_type": "execute_result",
          "data": {
            "text/plain": [
              "array([ 0.10056089, -0.99493091,  1.00504353])"
            ]
          },
          "metadata": {},
          "execution_count": 37
        }
      ],
      "source": [
        "# Ítem 2\n",
        "scipy.optimize.root(fun=f2, x0=estimacion2).x"
      ]
    },
    {
      "cell_type": "code",
      "execution_count": 30,
      "metadata": {
        "colab": {
          "base_uri": "https://localhost:8080/"
        },
        "id": "hpjtdD24OYpg",
        "outputId": "a912a461-6481-46df-9b41-c9851d286013"
      },
      "outputs": [
        {
          "output_type": "execute_result",
          "data": {
            "text/plain": [
              "[(-0.864139354188464, 0.503252597154495, -1.32164171523800),\n",
              " (-0.100560885095735, 0.994930906339110, -1.00504352722220),\n",
              " (0.100560885095735, -0.994930906339110, 1.00504352722220),\n",
              " (0.864139354188464, -0.503252597154495, 1.32164171523800)]"
            ]
          },
          "metadata": {},
          "execution_count": 30
        }
      ],
      "source": [
        "# Ítem 3\n",
        "sym.solve([x1**2 + x2**2 -1, x1*x2 + x2*x3 +1.1, x2**2 + x3**2 -2],[x1,x2,x3])"
      ]
    }
  ],
  "metadata": {
    "kernelspec": {
      "display_name": "Python 3 (ipykernel)",
      "language": "python",
      "name": "python3"
    },
    "language_info": {
      "codemirror_mode": {
        "name": "ipython",
        "version": 3
      },
      "file_extension": ".py",
      "mimetype": "text/x-python",
      "name": "python",
      "nbconvert_exporter": "python",
      "pygments_lexer": "ipython3",
      "version": "3.10.6"
    },
    "toc": {
      "base_numbering": 1,
      "nav_menu": {},
      "number_sections": false,
      "sideBar": true,
      "skip_h1_title": true,
      "title_cell": "Table of Contents",
      "title_sidebar": "Contents",
      "toc_cell": false,
      "toc_position": {},
      "toc_section_display": true,
      "toc_window_display": false
    },
    "colab": {
      "provenance": []
    }
  },
  "nbformat": 4,
  "nbformat_minor": 0
}